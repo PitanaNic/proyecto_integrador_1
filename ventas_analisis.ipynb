{
  "nbformat": 4,
  "nbformat_minor": 0,
  "metadata": {
    "colab": {
      "provenance": [],
      "authorship_tag": "ABX9TyPDx4ueEVagd4vaEtkmcCcT",
      "include_colab_link": true
    },
    "kernelspec": {
      "name": "python3",
      "display_name": "Python 3"
    },
    "language_info": {
      "name": "python"
    }
  },
  "cells": [
    {
      "cell_type": "markdown",
      "metadata": {
        "id": "view-in-github",
        "colab_type": "text"
      },
      "source": [
        "<a href=\"https://colab.research.google.com/github/PitanaNic/proyecto_integrador_1/blob/main/ventas_analisis.ipynb\" target=\"_parent\"><img src=\"https://colab.research.google.com/assets/colab-badge.svg\" alt=\"Open In Colab\"/></a>"
      ]
    },
    {
      "cell_type": "code",
      "execution_count": 1,
      "metadata": {
        "colab": {
          "base_uri": "https://localhost:8080/",
          "height": 193
        },
        "id": "iVITbqF6SGIU",
        "outputId": "22398492-558f-4742-faee-fd1f710430d8"
      },
      "outputs": [
        {
          "output_type": "stream",
          "name": "stdout",
          "text": [
            "Error: El archivo 'ventas_2023.csv' no se encontró.\n"
          ]
        },
        {
          "output_type": "error",
          "ename": "NameError",
          "evalue": "name 'ventas' is not defined",
          "traceback": [
            "\u001b[0;31m---------------------------------------------------------------------------\u001b[0m",
            "\u001b[0;31mNameError\u001b[0m                                 Traceback (most recent call last)",
            "\u001b[0;32m<ipython-input-1-4247b59eb213>\u001b[0m in \u001b[0;36m<cell line: 50>\u001b[0;34m()\u001b[0m\n\u001b[1;32m     48\u001b[0m \u001b[0;34m\u001b[0m\u001b[0m\n\u001b[1;32m     49\u001b[0m \u001b[0;31m# Visualizar las primeras filas del DataFrame para verificar los datos\u001b[0m\u001b[0;34m\u001b[0m\u001b[0;34m\u001b[0m\u001b[0m\n\u001b[0;32m---> 50\u001b[0;31m \u001b[0mventas\u001b[0m\u001b[0;34m.\u001b[0m\u001b[0mhead\u001b[0m\u001b[0;34m(\u001b[0m\u001b[0;34m)\u001b[0m\u001b[0;34m\u001b[0m\u001b[0;34m\u001b[0m\u001b[0m\n\u001b[0m",
            "\u001b[0;31mNameError\u001b[0m: name 'ventas' is not defined"
          ]
        }
      ],
      "source": [
        "# prompt: {\n",
        "#   \"cells\": [\n",
        "#     {\n",
        "#       \"cell_type\": \"markdown\",\n",
        "#       \"metadata\": {\n",
        "#         \"id\": \"view-in-github\",\n",
        "#         \"colab_type\": \"text\"\n",
        "#       },\n",
        "#       \"source\": [\n",
        "#         \"<a href=\\\"https://colab.research.google.com/github/hcgalvantech/proyecto_integrado_1/blob/main/ventas_analisis.ipynb\\\" target=\\\"_parent\\\"><img src=\\\"https://colab.research.google.com/assets/colab-badge.svg\\\" alt=\\\"Open In Colab\\\"/></a>\"\n",
        "#       ]\n",
        "#     },\n",
        "#     {\n",
        "#       \"cell_type\": \"markdown\",\n",
        "#       \"metadata\": {\n",
        "#         \"id\": \"NQ2UReeJghUb\"\n",
        "#       },\n",
        "#       \"source\": [\n",
        "#         \"# Análisis de Ventas de Tecnología\\n\",\n",
        "#         \"\\n\",\n",
        "#         \"Este notebook analiza los datos de ventas de productos tecnológicos durante el año 2023.\"\n",
        "#       ]\n",
        "#     },\n",
        "#     {\n",
        "#       \"cell_type\": \"code\",\n",
        "#       \"execution_count\": 1,\n",
        "#       \"metadata\": {\n",
        "#         \"id\": \"3jUHyI-PghUd\"\n",
        "#       },\n",
        "#       \"outputs\": [],\n",
        "#       \"source\": [\n",
        "#         \"# Importar librerías necesarias\\n\",\n",
        "#         \"import pandas as pd\\n\",\n",
        "#         \"import matplotlib.pyplot as plt\\n\",\n",
        "#         \"\n",
        "\n",
        "# Importar librerías necesarias\n",
        "import pandas as pd\n",
        "import matplotlib.pyplot as plt\n",
        "\n",
        "# Cargar los datos (reemplazar 'ventas_2023.csv' con el nombre real del archivo)\n",
        "try:\n",
        "    ventas = pd.read_csv('ventas_2023.csv')\n",
        "    print(\"Datos cargados correctamente.\")\n",
        "except FileNotFoundError:\n",
        "    print(\"Error: El archivo 'ventas_2023.csv' no se encontró.\")\n",
        "    # Puedes agregar código aquí para manejar el error, como solicitar el nombre del archivo nuevamente o salir del programa.\n",
        "\n",
        "# Visualizar las primeras filas del DataFrame para verificar los datos\n",
        "ventas.head()"
      ]
    }
  ]
}