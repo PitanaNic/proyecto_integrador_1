# Importar librerías necesarias
import pandas as pd
import matplotlib.pyplot as plt
import seaborn as sns

# Cargar datos desde GitHub
# Reemplazar con tu URL de GitHub raw
url = 'URL_DE_TU_ARCHIVO_CSV_EN_GITHUB'
df = pd.read_csv(url)

# Crear gráfico de líneas para todas las categorías
plt.figure(figsize=(15, 8))
for columna in df.columns[1:]:  # Excluimos la columna 'Mes'
    plt.plot(df['Mes'], df[columna], marker='o', label=columna)

plt.title('Ventas de Productos Tecnológicos 2023')
plt.xlabel('Mes')
plt.ylabel('Unidades Vendidas')
plt.xticks(rotation=45)
plt.legend()
plt.grid(True)
plt.tight_layout()
plt.show()

# Espacio para análisis adicional del alumno
# [AQUÍ EL ALUMNO PUEDE AGREGAR MÁS CÓDIGO]
"""
Ideas para análisis adicional:
1. Calcular estadísticas descriptivas
2. Crear gráficos de barras para comparar categorías
3. Analizar tendencias estacionales
4. Calcular correlaciones entre productos
5. Crear visualizaciones personalizadas
"""
